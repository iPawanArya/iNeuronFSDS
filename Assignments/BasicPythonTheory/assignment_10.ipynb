{
 "cells": [
  {
   "cell_type": "markdown",
   "id": "52960306",
   "metadata": {},
   "source": [
    "# rename files "
   ]
  },
  {
   "cell_type": "code",
   "execution_count": null,
   "id": "93496b22",
   "metadata": {},
   "outputs": [],
   "source": [
    "import os "
   ]
  },
  {
   "cell_type": "code",
   "execution_count": null,
   "id": "30ddf329",
   "metadata": {},
   "outputs": [],
   "source": [
    "os.listdir()"
   ]
  },
  {
   "cell_type": "code",
   "execution_count": null,
   "id": "391ddad9",
   "metadata": {},
   "outputs": [],
   "source": [
    "os.rename('Untitled.ipynb', 'assignment_')"
   ]
  },
  {
   "cell_type": "code",
   "execution_count": null,
   "id": "1132b60a",
   "metadata": {},
   "outputs": [],
   "source": [
    "os.getcwd()"
   ]
  },
  {
   "cell_type": "markdown",
   "id": "e7a3739e",
   "metadata": {},
   "source": [
    "# Create a programme that searches a folder tree for files with a certain file extension (such as .pdf or .jpg). Copy these files from whatever location they are in to a new folder."
   ]
  },
  {
   "cell_type": "code",
   "execution_count": 19,
   "id": "20dcccd3",
   "metadata": {},
   "outputs": [],
   "source": [
    "import os, shutil \n",
    "\n",
    "def selectivecopy(folder, extensions, destFolder): \n",
    "    \n",
    "    # return the absolute path ending with the base name \n",
    "    folder = os.path.abspath(folder) # 'C:\\\\Users\\\\ipawa\\\\Desktop\\\\theory_assign\\\\Python_Basic\\\\folder'\n",
    "    destFolder = os.path.abspath(destFolder) \n",
    "    print(f'Looking in {folder} for files with extension of {extensions}\\n') \n",
    "          \n",
    "    count = 1\n",
    "    for foldername, subfolders, filenames in os.walk(folder): \n",
    "          for filename in filenames: \n",
    "                name, extension = os.path.splitext(filename) \n",
    "                \n",
    "                \n",
    "                if extension in extensions: \n",
    "                    print(f'{count}.filename : {filename}')\n",
    "                    print('..........')\n",
    "                    fileAbsPath = foldername + os.path.sep + filename \n",
    "                    shutil.copy(fileAbsPath, destFolder)\n",
    "                    print('success')\n",
    "                    print(f'copied from {fileAbsPath} \\ncopied to {destFolder}') \n",
    "                    print('----------------------------------------------------------')\n",
    "                    print('----------------------------------------------------------')\n",
    "                    count+=1           \n",
    "    print(f'total files affected: {count-1}')"
   ]
  },
  {
   "cell_type": "code",
   "execution_count": 20,
   "id": "432218ff",
   "metadata": {},
   "outputs": [
    {
     "name": "stdout",
     "output_type": "stream",
     "text": [
      "Looking in C:\\Users\\ipawa\\Desktop\\theory_assign\\Python_Basic\\test for files with extension of .txt\n",
      "\n",
      "1.filename : hello.txt\n",
      "..........\n",
      "success\n",
      "copied from C:\\Users\\ipawa\\Desktop\\theory_assign\\Python_Basic\\test\\hello.txt \n",
      "copied to C:\\Users\\ipawa\\Desktop\\theory_assign\\Python_Basic\\random\n",
      "----------------------------------------------------------\n",
      "----------------------------------------------------------\n",
      "2.filename : this.txt\n",
      "..........\n",
      "success\n",
      "copied from C:\\Users\\ipawa\\Desktop\\theory_assign\\Python_Basic\\test\\this.txt \n",
      "copied to C:\\Users\\ipawa\\Desktop\\theory_assign\\Python_Basic\\random\n",
      "----------------------------------------------------------\n",
      "----------------------------------------------------------\n",
      "total files affected: 2\n"
     ]
    }
   ],
   "source": [
    "folder = 'test' \n",
    "extensions = ['.pdf', '.jpg'] \n",
    "destFolder = 'random'\n",
    "selectivecopy(folder, extensions, destFolder)"
   ]
  }
 ],
 "metadata": {
  "kernelspec": {
   "display_name": "Python 3 (ipykernel)",
   "language": "python",
   "name": "python3"
  },
  "language_info": {
   "codemirror_mode": {
    "name": "ipython",
    "version": 3
   },
   "file_extension": ".py",
   "mimetype": "text/x-python",
   "name": "python",
   "nbconvert_exporter": "python",
   "pygments_lexer": "ipython3",
   "version": "3.9.7"
  },
  "toc": {
   "base_numbering": 1,
   "nav_menu": {},
   "number_sections": true,
   "sideBar": true,
   "skip_h1_title": false,
   "title_cell": "Table of Contents",
   "title_sidebar": "Contents",
   "toc_cell": false,
   "toc_position": {},
   "toc_section_display": true,
   "toc_window_display": false
  }
 },
 "nbformat": 4,
 "nbformat_minor": 5
}
